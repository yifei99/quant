{
 "cells": [
  {
   "cell_type": "code",
   "execution_count": null,
   "metadata": {},
   "outputs": [],
   "source": [
    "# 下载数据\n",
    "import get_data\n",
    "\n",
    "# 定义需要下载的数据\n",
    "symbol = \"BTCUSDT\"          # 币种符号\n",
    "interval = \"1m\"             # 时间间隔\n",
    "start_date = \"2024-08-17\"   # 起始日期\n",
    "end_date = \"2024-08-19\"     # 结束日期\n",
    "data_type = \"spot\"          # 数据类型：现货 (spot) 或 合约 (futures)\n",
    "data_folder = \"data\"        # 数据存储文件夹\n",
    "\n",
    "# 调用下载函数\n",
    "get_data.download_binance_data(\n",
    "    symbol=symbol, \n",
    "    interval=interval, \n",
    "    start_date=start_date, \n",
    "    end_date=end_date, \n",
    "    data_type=data_type, \n",
    "    data_folder=data_folder\n",
    ")"
   ]
  }
 ],
 "metadata": {
  "language_info": {
   "name": "python"
  }
 },
 "nbformat": 4,
 "nbformat_minor": 2
}
